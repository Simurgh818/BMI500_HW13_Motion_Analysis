{
 "cells": [
  {
   "cell_type": "code",
   "execution_count": 72,
   "id": "a29d4a49-6422-423d-827d-aa919dc29cee",
   "metadata": {},
   "outputs": [],
   "source": [
    "import validators\n",
    "from pathlib import Path\n",
    "import urllib.request\n",
    "import numpy as np\n",
    "import math\n",
    "import pandas as pd\n",
    "import json\n",
    "import seaborn as sns\n",
    "import matplotlib.pyplot as plt\n",
    "sns.set_theme()"
   ]
  },
  {
   "cell_type": "code",
   "execution_count": 3,
   "id": "3638041a-fc61-4b9c-ad16-7f90caba9410",
   "metadata": {},
   "outputs": [],
   "source": [
    "def extract_kp_from_resource(f,person_id = -1):\n",
    "    \"\"\"\n",
    "    Extract keypoints from resource (file or url) as a numpy vector\n",
    "    \"\"\"\n",
    "\n",
    "    # load json from remote if it is an url; otherwise load as file\n",
    "    if validators.url(f):\n",
    "        json_temp = json.load(urllib.request.urlopen(u))['people']\n",
    "    if Path(f).exists():\n",
    "        json_temp = json.load(open(f))['people']\n",
    "    \n",
    "    try:\n",
    "        # extract the keypoints of the person specified by person_id; default is last person identified\n",
    "        keypoints = np.array(extract_kp_from_json(json_temp)[\"pose_keypoints_2d\"][person_id]).astype('float')\n",
    "    except:\n",
    "        keypoints = np.empty((75,))\n",
    "        keypoints[:] = np.NaN\n",
    "    \n",
    "    # set missing points (imputed as 0) to nan so that they are not plotted\n",
    "    keypoints[keypoints==0] = np.nan\n",
    "    \n",
    "    return keypoints"
   ]
  },
  {
   "cell_type": "code",
   "execution_count": 4,
   "id": "d69d5704-8d5e-4409-bfc7-9bb5f3001812",
   "metadata": {},
   "outputs": [],
   "source": [
    "def extract_kp_from_json(json_people):\n",
    "    \"\"\"\n",
    "    subfunction for extract_kp_from_resource\n",
    "    \"\"\"\n",
    "    person_id = []\n",
    "    pose_keypoints_2d = []\n",
    "    for i in range(0,len(json_people)):\n",
    "        person_id.append(json_people[i][\"person_id\"])\n",
    "        pose_keypoints_2d.append(json_people[i][\"pose_keypoints_2d\"])\n",
    "    # return a dict\n",
    "    return {'person_id': person_id, 'pose_keypoints_2d': pose_keypoints_2d}\n"
   ]
  },
  {
   "cell_type": "code",
   "execution_count": 5,
   "id": "1f2d92b8-c172-4314-9a2c-26a3a2f84e94",
   "metadata": {},
   "outputs": [],
   "source": [
    "def convert_kp_to_df(keypoints):\n",
    "    \"\"\"\n",
    "    reshape keypoint vector to dataframe\n",
    "    \"\"\"\n",
    "    # reshape to 25 X 3; the coordinates are x, y, confidence in estimate\n",
    "    kin = keypoints.reshape((-1,3))\n",
    "        \n",
    "    # create a dataframe\n",
    "    df = pd.DataFrame({'keypoint': [\"Nose\", \"Neck\", \"RShoulder\", \"RElbow\", \"RWrist\", \"LShoulder\", \"LElbow\", \"LWrist\", \"MidHip\", \"RHip\", \"RKnee\", \"RAnkle\", \"LHip\", \"LKnee\", \"LAnkle\", \"REye\", \"LEye\", \"REar\", \"LEar\", \"LBigToe\", \"LSmallToe\", \"LHeel\", \"RBigToe\", \"RSmallToe\", \"RHeel\"], 'x': kin[:,0], 'y': kin[:,1], 'confidence': kin[:,2]})\n",
    "\n",
    "    return df.set_index('keypoint')"
   ]
  },
  {
   "cell_type": "code",
   "execution_count": 30,
   "id": "7a89c3c2-f442-4e6a-a9c0-d1d071a4906b",
   "metadata": {},
   "outputs": [],
   "source": [
    "def plot_body25_df(df):\n",
    "    \"\"\"\n",
    "    plot a dataframe corresponding to body25 coordinates\n",
    "    \"\"\"\n",
    "    segments = [['Neck', 'REar', 'LEar', 'Neck'],\n",
    "        ['Nose', 'REye', 'LEye', 'Nose'],\n",
    "        ['RShoulder', 'Neck', 'LShoulder','RShoulder'],\n",
    "        [\"LShoulder\", \"LElbow\", \"LWrist\"],\n",
    "        [\"RShoulder\", \"RElbow\", \"RWrist\"],\n",
    "        ['RShoulder', 'RHip', 'LHip','LShoulder','RShoulder'],\n",
    "        ['LHip', 'MidHip', 'RHip'],\n",
    "        [\"LHip\", \"LKnee\", \"LAnkle\"],\n",
    "        [\"RHip\", \"RKnee\", \"RAnkle\"],\n",
    "        ['LAnkle', 'LHeel', 'LBigToe', 'LSmallToe', 'LAnkle'],\n",
    "        ['RAnkle', 'RHeel', 'RBigToe', 'RSmallToe', 'RAnkle']]\n",
    "    \n",
    "    fig, ax = plt.subplots(figsize=(15,5))\n",
    "    ax.set(xlim=[0, 1920], ylim=[1080, 0], xlabel='X', ylabel='Y')\n",
    "    [sns.lineplot(data=df.loc[s].reset_index(), x = \"x\", y = \"y\", ax = ax) for s in segments]\n",
    "    plt.legend(labels=segments)\n"
   ]
  },
  {
   "cell_type": "code",
   "execution_count": 31,
   "id": "11168d7a-e420-47d7-8241-9b817d57f8e3",
   "metadata": {},
   "outputs": [],
   "source": [
    "def extract_kp_from_file(f,person_id = -1):\n",
    "    \"\"\"\n",
    "    Extract keypoints from resource (file or url) as a numpy vector\n",
    "    \"\"\"\n",
    "\n",
    "    json_temp = json.load(open(f))['people']\n",
    "    \n",
    "    try:\n",
    "        # extract the keypoints of the person specified by person_id; default is last person identified\n",
    "        keypoints = np.array(extract_kp_from_json(json_temp)[\"pose_keypoints_2d\"][person_id]).astype('float')\n",
    "    except:\n",
    "        keypoints = np.empty((75,))\n",
    "        keypoints[:] = np.NaN\n",
    "    \n",
    "    # set missing points (imputed as 0) to nan so that they are not plotted\n",
    "    keypoints[keypoints==0] = np.nan\n",
    "    \n",
    "    return keypoints\n"
   ]
  },
  {
   "cell_type": "code",
   "execution_count": 89,
   "id": "354e8c45-e253-4cc1-8fbe-26d98fc1200e",
   "metadata": {},
   "outputs": [
    {
     "data": {
      "image/png": "[encoded data removed]",
      "text/plain": [
       "<Figure size 1080x360 with 1 Axes>"
      ]
     },
     "metadata": {},
     "output_type": "display_data"
    }
   ],
   "source": [
    "# u = \"https://jlucasmckay.bmi.emory.edu/global/bmi500/keypoints.json\"\n",
    "# u = \"OneDrive - Georgia Institute of Technology/BMI 500 Bio Informatics/wk13/BMI500_HW13_Motion_Analysis/output_json/Sina_dance_000000000000_keypoints.json\"\n",
    "u = \"keypoints.json\"\n",
    "f = \"keypoints.json\"\n",
    "# f = u\n",
    "\n",
    "kp_u = extract_kp_from_resource(u)\n",
    "kp_f = extract_kp_from_resource(f)\n",
    "\n",
    "df_u = convert_kp_to_df(kp_u)\n",
    "df_f = convert_kp_to_df(kp_f)\n",
    "\n",
    "plot_body25_df(df_f)"
   ]
  },
  {
   "cell_type": "code",
   "execution_count": 22,
   "id": "f81e66a1-bb0b-46bf-b814-da5528c6f0bb",
   "metadata": {},
   "outputs": [
    {
     "data": {
      "text/html": [
       "<div>\n",
       "<style scoped>\n",
       "    .dataframe tbody tr th:only-of-type {\n",
       "        vertical-align: middle;\n",
       "    }\n",
       "\n",
       "    .dataframe tbody tr th {\n",
       "        vertical-align: top;\n",
       "    }\n",
       "\n",
       "    .dataframe thead th {\n",
       "        text-align: right;\n",
       "    }\n",
       "</style>\n",
       "<table border=\"1\" class=\"dataframe\">\n",
       "  <thead>\n",
       "    <tr style=\"text-align: right;\">\n",
       "      <th></th>\n",
       "      <th>x</th>\n",
       "      <th>y</th>\n",
       "      <th>confidence</th>\n",
       "    </tr>\n",
       "    <tr>\n",
       "      <th>keypoint</th>\n",
       "      <th></th>\n",
       "      <th></th>\n",
       "      <th></th>\n",
       "    </tr>\n",
       "  </thead>\n",
       "  <tbody>\n",
       "    <tr>\n",
       "      <th>Nose</th>\n",
       "      <td>839.275</td>\n",
       "      <td>274.261</td>\n",
       "      <td>0.917512</td>\n",
       "    </tr>\n",
       "    <tr>\n",
       "      <th>Neck</th>\n",
       "      <td>806.930</td>\n",
       "      <td>347.775</td>\n",
       "      <td>0.878199</td>\n",
       "    </tr>\n",
       "    <tr>\n",
       "      <th>RShoulder</th>\n",
       "      <td>762.852</td>\n",
       "      <td>347.858</td>\n",
       "      <td>0.865138</td>\n",
       "    </tr>\n",
       "    <tr>\n",
       "      <th>RElbow</th>\n",
       "      <td>727.486</td>\n",
       "      <td>442.062</td>\n",
       "      <td>0.822156</td>\n",
       "    </tr>\n",
       "    <tr>\n",
       "      <th>RWrist</th>\n",
       "      <td>709.782</td>\n",
       "      <td>530.354</td>\n",
       "      <td>0.871983</td>\n",
       "    </tr>\n",
       "    <tr>\n",
       "      <th>LShoulder</th>\n",
       "      <td>842.340</td>\n",
       "      <td>344.855</td>\n",
       "      <td>0.844136</td>\n",
       "    </tr>\n",
       "    <tr>\n",
       "      <th>LElbow</th>\n",
       "      <td>856.942</td>\n",
       "      <td>430.125</td>\n",
       "      <td>0.889750</td>\n",
       "    </tr>\n",
       "    <tr>\n",
       "      <th>LWrist</th>\n",
       "      <td>921.665</td>\n",
       "      <td>459.668</td>\n",
       "      <td>0.859753</td>\n",
       "    </tr>\n",
       "    <tr>\n",
       "      <th>MidHip</th>\n",
       "      <td>809.972</td>\n",
       "      <td>512.606</td>\n",
       "      <td>0.826453</td>\n",
       "    </tr>\n",
       "    <tr>\n",
       "      <th>RHip</th>\n",
       "      <td>789.240</td>\n",
       "      <td>512.631</td>\n",
       "      <td>0.785654</td>\n",
       "    </tr>\n",
       "    <tr>\n",
       "      <th>RKnee</th>\n",
       "      <td>857.011</td>\n",
       "      <td>630.380</td>\n",
       "      <td>0.887856</td>\n",
       "    </tr>\n",
       "    <tr>\n",
       "      <th>RAnkle</th>\n",
       "      <td>880.464</td>\n",
       "      <td>786.228</td>\n",
       "      <td>0.888342</td>\n",
       "    </tr>\n",
       "    <tr>\n",
       "      <th>LHip</th>\n",
       "      <td>833.368</td>\n",
       "      <td>512.616</td>\n",
       "      <td>0.799905</td>\n",
       "    </tr>\n",
       "    <tr>\n",
       "      <th>LKnee</th>\n",
       "      <td>789.408</td>\n",
       "      <td>644.940</td>\n",
       "      <td>0.890763</td>\n",
       "    </tr>\n",
       "    <tr>\n",
       "      <th>LAnkle</th>\n",
       "      <td>712.771</td>\n",
       "      <td>736.277</td>\n",
       "      <td>0.839424</td>\n",
       "    </tr>\n",
       "    <tr>\n",
       "      <th>REye</th>\n",
       "      <td>830.492</td>\n",
       "      <td>268.402</td>\n",
       "      <td>0.955732</td>\n",
       "    </tr>\n",
       "    <tr>\n",
       "      <th>LEye</th>\n",
       "      <td>842.256</td>\n",
       "      <td>268.353</td>\n",
       "      <td>0.814716</td>\n",
       "    </tr>\n",
       "    <tr>\n",
       "      <th>REar</th>\n",
       "      <td>795.156</td>\n",
       "      <td>274.314</td>\n",
       "      <td>0.857091</td>\n",
       "    </tr>\n",
       "    <tr>\n",
       "      <th>LEar</th>\n",
       "      <td>NaN</td>\n",
       "      <td>NaN</td>\n",
       "      <td>NaN</td>\n",
       "    </tr>\n",
       "    <tr>\n",
       "      <th>LBigToe</th>\n",
       "      <td>736.237</td>\n",
       "      <td>783.460</td>\n",
       "      <td>0.786820</td>\n",
       "    </tr>\n",
       "    <tr>\n",
       "      <th>LSmallToe</th>\n",
       "      <td>730.456</td>\n",
       "      <td>777.512</td>\n",
       "      <td>0.709043</td>\n",
       "    </tr>\n",
       "    <tr>\n",
       "      <th>LHeel</th>\n",
       "      <td>692.144</td>\n",
       "      <td>739.238</td>\n",
       "      <td>0.861732</td>\n",
       "    </tr>\n",
       "    <tr>\n",
       "      <th>RBigToe</th>\n",
       "      <td>927.541</td>\n",
       "      <td>789.415</td>\n",
       "      <td>0.790538</td>\n",
       "    </tr>\n",
       "    <tr>\n",
       "      <th>RSmallToe</th>\n",
       "      <td>907.117</td>\n",
       "      <td>803.940</td>\n",
       "      <td>0.790985</td>\n",
       "    </tr>\n",
       "    <tr>\n",
       "      <th>RHeel</th>\n",
       "      <td>871.648</td>\n",
       "      <td>801.012</td>\n",
       "      <td>0.754043</td>\n",
       "    </tr>\n",
       "  </tbody>\n",
       "</table>\n",
       "</div>"
      ],
      "text/plain": [
       "                 x        y  confidence\n",
       "keypoint                               \n",
       "Nose       839.275  274.261    0.917512\n",
       "Neck       806.930  347.775    0.878199\n",
       "RShoulder  762.852  347.858    0.865138\n",
       "RElbow     727.486  442.062    0.822156\n",
       "RWrist     709.782  530.354    0.871983\n",
       "LShoulder  842.340  344.855    0.844136\n",
       "LElbow     856.942  430.125    0.889750\n",
       "LWrist     921.665  459.668    0.859753\n",
       "MidHip     809.972  512.606    0.826453\n",
       "RHip       789.240  512.631    0.785654\n",
       "RKnee      857.011  630.380    0.887856\n",
       "RAnkle     880.464  786.228    0.888342\n",
       "LHip       833.368  512.616    0.799905\n",
       "LKnee      789.408  644.940    0.890763\n",
       "LAnkle     712.771  736.277    0.839424\n",
       "REye       830.492  268.402    0.955732\n",
       "LEye       842.256  268.353    0.814716\n",
       "REar       795.156  274.314    0.857091\n",
       "LEar           NaN      NaN         NaN\n",
       "LBigToe    736.237  783.460    0.786820\n",
       "LSmallToe  730.456  777.512    0.709043\n",
       "LHeel      692.144  739.238    0.861732\n",
       "RBigToe    927.541  789.415    0.790538\n",
       "RSmallToe  907.117  803.940    0.790985\n",
       "RHeel      871.648  801.012    0.754043"
      ]
     },
     "execution_count": 22,
     "metadata": {},
     "output_type": "execute_result"
    }
   ],
   "source": [
    "df_f"
   ]
  },
  {
   "cell_type": "code",
   "execution_count": 48,
   "id": "847167ae-ad67-411a-bdc0-dd6facd30b5d",
   "metadata": {},
   "outputs": [
    {
     "data": {
      "text/plain": [
       "<bound method NDFrame.keys of                  x        y  confidence\n",
       "keypoint                               \n",
       "Nose       839.275  274.261    0.917512\n",
       "Neck       806.930  347.775    0.878199\n",
       "RShoulder  762.852  347.858    0.865138\n",
       "RElbow     727.486  442.062    0.822156\n",
       "RWrist     709.782  530.354    0.871983\n",
       "LShoulder  842.340  344.855    0.844136\n",
       "LElbow     856.942  430.125    0.889750\n",
       "LWrist     921.665  459.668    0.859753\n",
       "MidHip     809.972  512.606    0.826453\n",
       "RHip       789.240  512.631    0.785654\n",
       "RKnee      857.011  630.380    0.887856\n",
       "RAnkle     880.464  786.228    0.888342\n",
       "LHip       833.368  512.616    0.799905\n",
       "LKnee      789.408  644.940    0.890763\n",
       "LAnkle     712.771  736.277    0.839424\n",
       "REye       830.492  268.402    0.955732\n",
       "LEye       842.256  268.353    0.814716\n",
       "REar       795.156  274.314    0.857091\n",
       "LEar           NaN      NaN         NaN\n",
       "LBigToe    736.237  783.460    0.786820\n",
       "LSmallToe  730.456  777.512    0.709043\n",
       "LHeel      692.144  739.238    0.861732\n",
       "RBigToe    927.541  789.415    0.790538\n",
       "RSmallToe  907.117  803.940    0.790985\n",
       "RHeel      871.648  801.012    0.754043>"
      ]
     },
     "execution_count": 48,
     "metadata": {},
     "output_type": "execute_result"
    }
   ],
   "source": [
    "# Left knee angle\n",
    "df_f.keys\n"
   ]
  },
  {
   "cell_type": "code",
   "execution_count": 68,
   "id": "df208e4a-60b5-49c2-8358-b2664f47530c",
   "metadata": {},
   "outputs": [
    {
     "data": {
      "text/plain": [
       "x     43.960\n",
       "y   -132.324\n",
       "dtype: float64"
      ]
     },
     "execution_count": 68,
     "metadata": {},
     "output_type": "execute_result"
    }
   ],
   "source": [
    "v1 = df_f.loc[\"LHip\",['x','y']] - df_f.loc[\"LKnee\",['x','y']]\n",
    "v1"
   ]
  },
  {
   "cell_type": "code",
   "execution_count": 69,
   "id": "d8b9747d-c834-4446-a35f-cf07cfc2a822",
   "metadata": {},
   "outputs": [
    {
     "data": {
      "text/plain": [
       "x    76.637\n",
       "y   -91.337\n",
       "dtype: float64"
      ]
     },
     "execution_count": 69,
     "metadata": {},
     "output_type": "execute_result"
    }
   ],
   "source": [
    "v2 = df_f.loc[\"LKnee\",['x','y']] - df_f.loc[\"LAnkle\",['x','y']]\n",
    "v2"
   ]
  },
  {
   "cell_type": "code",
   "execution_count": 12,
   "id": "aebacc81-d735-4a91-a18f-0ab5de937021",
   "metadata": {},
   "outputs": [],
   "source": [
    "src_dir = Path(\"gait-json/json/\")"
   ]
  },
  {
   "cell_type": "code",
   "execution_count": 13,
   "id": "21e20012-0b9b-4413-bec5-1da851e0b13b",
   "metadata": {},
   "outputs": [
    {
     "data": {
      "text/plain": [
       "WindowsPath('C:/Users/sinad/OneDrive - Georgia Institute of Technology/BMI 500 Bio Informatics/wk13/BMI500_HW13_Motion_Analysis/gait-json/json')"
      ]
     },
     "execution_count": 13,
     "metadata": {},
     "output_type": "execute_result"
    }
   ],
   "source": [
    "src_dir.resolve()"
   ]
  },
  {
   "cell_type": "code",
   "execution_count": 14,
   "id": "1e4a4c70-e44d-45cb-a774-7851046b3896",
   "metadata": {},
   "outputs": [
    {
     "data": {
      "text/plain": [
       "True"
      ]
     },
     "execution_count": 14,
     "metadata": {},
     "output_type": "execute_result"
    }
   ],
   "source": [
    "src_dir.exists()"
   ]
  },
  {
   "cell_type": "code",
   "execution_count": 15,
   "id": "3f8f96c3-0016-40e5-a387-f2f5ec8220eb",
   "metadata": {},
   "outputs": [
    {
     "data": {
      "text/plain": [
       "'C:\\\\Users\\\\sinad\\\\OneDrive - Georgia Institute of Technology\\\\BMI 500 Bio Informatics\\\\wk13\\\\BMI500_HW13_Motion_Analysis'"
      ]
     },
     "execution_count": 15,
     "metadata": {},
     "output_type": "execute_result"
    }
   ],
   "source": [
    "pwd"
   ]
  },
  {
   "cell_type": "code",
   "execution_count": 17,
   "id": "950813f7-8049-40a3-bd45-04f1072525e4",
   "metadata": {},
   "outputs": [],
   "source": [
    "# Getting all the paths to json files\n",
    "json_dir = src_dir\n",
    "files = list(json_dir.glob(\"*/*.json\"))"
   ]
  },
  {
   "cell_type": "code",
   "execution_count": 19,
   "id": "89c4148e-f2da-4fb4-98ea-995569a4b735",
   "metadata": {},
   "outputs": [],
   "source": [
    "# Getting all of the trial informations\n",
    "trial = [f.parent.stem for f in files]"
   ]
  },
  {
   "cell_type": "code",
   "execution_count": 21,
   "id": "b9dc8154-72cf-4596-9c7a-3edcf142d45d",
   "metadata": {},
   "outputs": [],
   "source": [
    "# Getting all of the frame numbers\n",
    "frame = [int(f.name.split(\"_\")[1]) for f in files]"
   ]
  },
  {
   "cell_type": "code",
   "execution_count": 16,
   "id": "53f405fb-9f0a-4b38-b7ba-90477133a6da",
   "metadata": {},
   "outputs": [
    {
     "data": {
      "text/plain": [
       "'C:\\\\Users\\\\sinad\\\\OneDrive - Georgia Institute of Technology\\\\BMI 500 Bio Informatics\\\\wk13\\\\BMI500_HW13_Motion_Analysis\\\\gait-json\\\\json\\\\1, 10-25, Normal gait, Sag, Paige\\\\f_000000000013_keypoints.json'"
      ]
     },
     "execution_count": 16,
     "metadata": {},
     "output_type": "execute_result"
    }
   ],
   "source": [
    "f = files[13]\n",
    "str(f.resolve())"
   ]
  },
  {
   "cell_type": "markdown",
   "id": "1d6caf80-c79b-42c4-a4ea-e5e0bf8dedbb",
   "metadata": {},
   "source": [
    "pd.concat(outcomes_list...\n",
    "\n",
    "trial.str.contains(\"normal\")"
   ]
  },
  {
   "cell_type": "markdown",
   "id": "e2dd5536-c912-48e6-8c70-2565616174c5",
   "metadata": {},
   "source": [
    "# Homework"
   ]
  },
  {
   "cell_type": "markdown",
   "id": "ba3bf6b9-863a-4b7b-8026-da6ca0b78a81",
   "metadata": {},
   "source": [
    "on windows command prompt:\n",
    "navigate to : \n",
    "C:\\Users\\sinad\\OneDrive - Georgia Institute of Technology\\BMI 500 Bio Informatics\\wk13\\openpose\n",
    "\n",
    "type the command: \n",
    "\n",
    "bin\\OpenPoseDemo.exe --video .\\examples\\media\\Sina_dance.mp4 --hand --write_json 'C:\\Users\\sinad\\OneDrive - Georgia Institute of Technology\\BMI 500 Bio Informatics\\wk13\\BMI500_HW13_Motion_Analysis\\output_json'"
   ]
  },
  {
   "cell_type": "code",
   "execution_count": 81,
   "id": "62532fa2-3db6-4249-8747-5e9fc0deeacb",
   "metadata": {},
   "outputs": [],
   "source": [
    "# # Functions to calculate outcomes\n",
    "# \n",
    "# To complete the lab, you must fill in the following function prototypes:\n",
    "# \n",
    "# ```python\n",
    "# def calculate_angle(v1,v2):\n",
    "#     \"\"\"\n",
    "#     return the angle (in degrees) between two vectors v1 and v2.\n",
    "#     \"\"\"\n",
    "#     \n",
    "# ```\n",
    "def calculate_angle(v1,v2):\n",
    "    v1_norm = v1/np.linalg.norm(v1)\n",
    "    v2_norm = v2/np.linalg.norm(v2)\n",
    "    angle = np.arccos(np.dot(v1_norm,v2_norm))\n",
    "    angle_degrees = 180 - np.round(math.degrees(angle),2)\n",
    "    return angle_degrees"
   ]
  },
  {
   "cell_type": "code",
   "execution_count": 82,
   "id": "e13b6626-ba18-44ee-9c28-f45490f89923",
   "metadata": {},
   "outputs": [
    {
     "data": {
      "text/plain": [
       "158.38"
      ]
     },
     "execution_count": 82,
     "metadata": {},
     "output_type": "execute_result"
    }
   ],
   "source": [
    "knee_angle = calculate_angle(v1, v2)\n",
    "knee_angle"
   ]
  },
  {
   "cell_type": "code",
   "execution_count": 65,
   "id": "3ea64232-5cab-4b67-98bd-2300c55d83b0",
   "metadata": {},
   "outputs": [],
   "source": [
    "# def calc_outcomes(f):\n",
    "#     \"\"\"\n",
    "#     calculate outcomes from a file or other resource\n",
    "#     return as a dataframe in standard format\n",
    "#     \"\"\"\n",
    "def calc_outcomes(f):\n",
    "    kp_f = extract_kp_from_resource(f)\n",
    "    df_f = convert_kp_to_df(kp_f)\n",
    "    return df_f"
   ]
  },
  {
   "cell_type": "code",
   "execution_count": 84,
   "id": "bac6def1-814b-4fd6-8508-deb786600288",
   "metadata": {},
   "outputs": [],
   "source": [
    "df_f = df_f.loc[[\"RShoulder\",\"RHip\",\"RKnee\",\"RAnkle\", \"RBigToe\", \"LShoulder\",\"LHip\",\"LKnee\", \"LAnkle\",\"LBigToe\"]]\n"
   ]
  },
  {
   "cell_type": "code",
   "execution_count": 86,
   "id": "593268e4-7c1e-4168-b69e-da0bcc3d683a",
   "metadata": {},
   "outputs": [
    {
     "data": {
      "text/plain": [
       "array([[789.415],\n",
       "       [783.46 ]])"
      ]
     },
     "execution_count": 86,
     "metadata": {},
     "output_type": "execute_result"
    }
   ],
   "source": [
    "toe = df_f.loc[[\"RBigToe\",\"LBigToe\"], ['y']].to_numpy()\n",
    "toe"
   ]
  },
  {
   "cell_type": "code",
   "execution_count": 93,
   "id": "c83aad19-a5c5-4c5b-b9c0-350b4f63ea79",
   "metadata": {},
   "outputs": [],
   "source": [
    "# def df_to_outcomes(d):\n",
    "#     \"\"\"\n",
    "#     return a dataframe with kinematic outcomes derived from a single body25 dataframe.\n",
    "#     \"\"\"\n",
    "#       \n",
    "def df_to_outcomes(d):\n",
    "    \n",
    "    df_f = d.loc[[\"RShoulder\",\"RHip\",\"RKnee\",\"RAnkle\", \"RBigToe\", \"LShoulder\",\"LHip\",\"LKnee\", \"LAnkle\",\"LBigToe\"]]\n",
    "    \n",
    "    #     right knee angle\n",
    "    r_thigh_vector = df_f.loc[\"RHip\",['x','y']] - df_f.loc[\"RKnee\",['x','y']]\n",
    "    r_shin_vector = df_f.loc[\"RKnee\",['x','y']] - df_f.loc[\"RAnkle\",['x','y']]\n",
    "    r_knee_ang = calculate_angle(r_thigh_vector, r_shin_vector)\n",
    "    \n",
    "# Left knee angle\n",
    "    l_thigh_vector = df_f.loc[\"LHip\",['x','y']] - df_f.loc[\"LKnee\",['x','y']]\n",
    "    l_shin_vector = df_f.loc[\"LKnee\",['x','y']] - df_f.loc[\"LAnkle\",['x','y']]\n",
    "    l_knee_ang = calculate_angle(l_thigh_vector, l_shin_vector)\n",
    "\n",
    "# Right toe height\n",
    "    r_toe = df_f.loc[[\"RBigToe\"], ['y']].to_numpy()[0]\n",
    "# Left toe height\n",
    "    l_toe = df_f.loc[[\"LBigToe\"], ['y']].to_numpy()[0]\n",
    "# center of trunk segment x\n",
    "    center_of_mass = (df_f.loc[\"RShoulder\", ['x','y']] + df_f.loc[\"RHip\", ['x','y']] + df_f.loc[\"LShoulder\", ['x','y']] \n",
    "                       + df_f.loc[\"LHip\", ['x','y']])/4\n",
    "    center_of_mass_x = center_of_mass['x']\n",
    "# center of truck segment y\n",
    "    center_of_mass_y = center_of_mass['y']\n",
    "    result ={'r_knee_ang': r_knee_ang, 'l_knee_ang':l_knee_ang, \n",
    "                              'r_toe_ht': r_toe, 'l_toe_ht': l_toe, \n",
    "                               'com_x':center_of_mass_x, 'com_y':center_of_mass_y }\n",
    "    outcomes_df = pd.DataFrame(data=result)\n",
    "    \n",
    "    return outcomes_df"
   ]
  },
  {
   "cell_type": "code",
   "execution_count": 95,
   "id": "4a6c984c-fc81-4d74-87e5-3352c61ee93f",
   "metadata": {},
   "outputs": [
    {
     "data": {
      "text/html": [
       "<div>\n",
       "<style scoped>\n",
       "    .dataframe tbody tr th:only-of-type {\n",
       "        vertical-align: middle;\n",
       "    }\n",
       "\n",
       "    .dataframe tbody tr th {\n",
       "        vertical-align: top;\n",
       "    }\n",
       "\n",
       "    .dataframe thead th {\n",
       "        text-align: right;\n",
       "    }\n",
       "</style>\n",
       "<table border=\"1\" class=\"dataframe\">\n",
       "  <thead>\n",
       "    <tr style=\"text-align: right;\">\n",
       "      <th></th>\n",
       "      <th>r_knee_ang</th>\n",
       "      <th>l_knee_ang</th>\n",
       "      <th>r_toe_ht</th>\n",
       "      <th>l_toe_ht</th>\n",
       "      <th>com_x</th>\n",
       "      <th>com_y</th>\n",
       "    </tr>\n",
       "  </thead>\n",
       "  <tbody>\n",
       "    <tr>\n",
       "      <th>0</th>\n",
       "      <td>158.64</td>\n",
       "      <td>158.38</td>\n",
       "      <td>789.415</td>\n",
       "      <td>783.46</td>\n",
       "      <td>806.95</td>\n",
       "      <td>429.49</td>\n",
       "    </tr>\n",
       "  </tbody>\n",
       "</table>\n",
       "</div>"
      ],
      "text/plain": [
       "   r_knee_ang  l_knee_ang  r_toe_ht  l_toe_ht   com_x   com_y\n",
       "0      158.64      158.38   789.415    783.46  806.95  429.49"
      ]
     },
     "execution_count": 95,
     "metadata": {},
     "output_type": "execute_result"
    }
   ],
   "source": [
    "outcome = df_to_outcomes(df_f)\n",
    "outcome"
   ]
  },
  {
   "cell_type": "code",
   "execution_count": null,
   "id": "2b5fa954-cc83-484e-8893-f26aeb3973a3",
   "metadata": {},
   "outputs": [],
   "source": []
  },
  {
   "cell_type": "code",
   "execution_count": 18,
   "id": "865a698c-685d-40bb-b523-dd8cb4e9ad54",
   "metadata": {},
   "outputs": [],
   "source": [
    "# ADD FUNCTIONS HERE\n",
    "\n",
    "\n",
    "# # Loop over files\n",
    "# \n",
    "# Next, you must loop over files in the `json/` directory and concatenate all of the outcomes\n",
    "# into a pandas dataframe called `outcomes`."
   ]
  },
  {
   "cell_type": "code",
   "execution_count": null,
   "id": "b517c348-bf5b-4763-b19c-62d695ea659b",
   "metadata": {},
   "outputs": [],
   "source": []
  },
  {
   "cell_type": "markdown",
   "id": "37acac20-48d6-4956-b35d-039b74939375",
   "metadata": {},
   "source": [
    "\n",
    "### Write to file\n",
    " \n",
    "#### Write the data to a `csv` file\n"
   ]
  },
  {
   "cell_type": "code",
   "execution_count": 19,
   "id": "801438c6-cc97-4552-b983-e4cf5c833af1",
   "metadata": {},
   "outputs": [],
   "source": [
    "# write to file\n",
    "# outcomes.to_csv(\"outcomes.csv\",index=False)"
   ]
  },
  {
   "cell_type": "code",
   "execution_count": null,
   "id": "8d18fbe5-9ebb-4855-90e0-8b01bc06e0f2",
   "metadata": {},
   "outputs": [],
   "source": []
  },
  {
   "cell_type": "code",
   "execution_count": 20,
   "id": "311afcfe-4fbb-49c6-8731-b812abe41620",
   "metadata": {},
   "outputs": [],
   "source": [
    "# # Plot and save\n",
    "# \n",
    "# ## Normal gait (right knee angle, first 200 frames)"
   ]
  },
  {
   "cell_type": "code",
   "execution_count": null,
   "id": "393e707f-b2cf-4adc-8a84-498de1e5754d",
   "metadata": {},
   "outputs": [],
   "source": []
  }
 ],
 "metadata": {
  "kernelspec": {
   "display_name": "Python 3",
   "language": "python",
   "name": "python3"
  },
  "language_info": {
   "codemirror_mode": {
    "name": "ipython",
    "version": 3
   },
   "file_extension": ".py",
   "mimetype": "text/x-python",
   "name": "python",
   "nbconvert_exporter": "python",
   "pygments_lexer": "ipython3",
   "version": "3.8.8"
  }
 },
 "nbformat": 4,
 "nbformat_minor": 5
}
