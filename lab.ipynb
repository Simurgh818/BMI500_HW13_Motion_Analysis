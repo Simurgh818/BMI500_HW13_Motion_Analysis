{
 "cells": [
  {
   "cell_type": "code",
   "execution_count": 1,
   "id": "a29d4a49-6422-423d-827d-aa919dc29cee",
   "metadata": {},
   "outputs": [],
   "source": [
    "import validators\n",
    "from pathlib import Path\n",
    "import urllib.request\n",
    "import numpy as np\n",
    "import pandas as pd\n",
    "import json\n",
    "import seaborn as sns\n",
    "import matplotlib.pyplot as plt\n",
    "sns.set_theme()"
   ]
  },
  {
   "cell_type": "code",
   "execution_count": 2,
   "id": "3638041a-fc61-4b9c-ad16-7f90caba9410",
   "metadata": {},
   "outputs": [],
   "source": [
    "def extract_kp_from_resource(f,person_id = -1):\n",
    "    \"\"\"\n",
    "    Extract keypoints from resource (file or url) as a numpy vector\n",
    "    \"\"\"\n",
    "\n",
    "    # load json from remote if it is an url; otherwise load as file\n",
    "    if validators.url(f):\n",
    "        json_temp = json.load(urllib.request.urlopen(u))['people']\n",
    "    if Path(f).exists():\n",
    "        json_temp = json.load(open(f))['people']\n",
    "    \n",
    "    try:\n",
    "        # extract the keypoints of the person specified by person_id; default is last person identified\n",
    "        keypoints = np.array(extract_kp_from_json(json_temp)[\"pose_keypoints_2d\"][person_id]).astype('float')\n",
    "    except:\n",
    "        keypoints = np.empty((75,))\n",
    "        keypoints[:] = np.NaN\n",
    "    \n",
    "    # set missing points (imputed as 0) to nan so that they are not plotted\n",
    "    keypoints[keypoints==0] = np.nan\n",
    "    \n",
    "    return keypoints"
   ]
  },
  {
   "cell_type": "code",
   "execution_count": 3,
   "id": "d69d5704-8d5e-4409-bfc7-9bb5f3001812",
   "metadata": {},
   "outputs": [],
   "source": [
    "def extract_kp_from_json(json_people):\n",
    "    \"\"\"\n",
    "    subfunction for extract_kp_from_resource\n",
    "    \"\"\"\n",
    "    person_id = []\n",
    "    pose_keypoints_2d = []\n",
    "    for i in range(0,len(json_people)):\n",
    "        person_id.append(json_people[i][\"person_id\"])\n",
    "        pose_keypoints_2d.append(json_people[i][\"pose_keypoints_2d\"])\n",
    "    # return a dict\n",
    "    return {'person_id': person_id, 'pose_keypoints_2d': pose_keypoints_2d}\n"
   ]
  },
  {
   "cell_type": "code",
   "execution_count": 4,
   "id": "1f2d92b8-c172-4314-9a2c-26a3a2f84e94",
   "metadata": {},
   "outputs": [],
   "source": [
    "def convert_kp_to_df(keypoints):\n",
    "    \"\"\"\n",
    "    reshape keypoint vector to dataframe\n",
    "    \"\"\"\n",
    "    # reshape to 25 X 3; the coordinates are x, y, confidence in estimate\n",
    "    kin = keypoints.reshape((-1,3))\n",
    "        \n",
    "    # create a dataframe\n",
    "    df = pd.DataFrame({'keypoint': [\"Nose\", \"Neck\", \"RShoulder\", \"RElbow\", \"RWrist\", \"LShoulder\", \"LElbow\", \"LWrist\", \"MidHip\", \"RHip\", \"RKnee\", \"RAnkle\", \"LHip\", \"LKnee\", \"LAnkle\", \"REye\", \"LEye\", \"REar\", \"LEar\", \"LBigToe\", \"LSmallToe\", \"LHeel\", \"RBigToe\", \"RSmallToe\", \"RHeel\"], 'x': kin[:,0], 'y': kin[:,1], 'confidence': kin[:,2]})\n",
    "\n",
    "    return df.set_index('keypoint')"
   ]
  },
  {
   "cell_type": "code",
   "execution_count": 5,
   "id": "7a89c3c2-f442-4e6a-a9c0-d1d071a4906b",
   "metadata": {},
   "outputs": [],
   "source": [
    "def plot_body25_df(df):\n",
    "    \"\"\"\n",
    "    plot a dataframe corresponding to body25 coordinates\n",
    "    \"\"\"\n",
    "    segments = [['Neck', 'REar', 'LEar', 'Neck'],\n",
    "        ['Nose', 'REye', 'LEye', 'Nose'],\n",
    "        ['RShoulder', 'Neck', 'LShoulder','RShoulder'],\n",
    "        [\"LShoulder\", \"LElbow\", \"LWrist\"],\n",
    "        [\"RShoulder\", \"RElbow\", \"RWrist\"],\n",
    "        ['RShoulder', 'RHip', 'LHip','LShoulder','RShoulder'],\n",
    "        ['LHip', 'MidHip', 'RHip'],\n",
    "        [\"LHip\", \"LKnee\", \"LAnkle\"],\n",
    "        [\"RHip\", \"RKnee\", \"RAnkle\"],\n",
    "        ['LAnkle', 'LHeel', 'LBigToe', 'LSmallToe', 'LAnkle'],\n",
    "        ['RAnkle', 'RHeel', 'RBigToe', 'RSmallToe', 'RAnkle']]\n",
    "    \n",
    "    fig, ax = plt.subplots()\n",
    "    ax.set(xlim=[0, 1920], ylim=[1080, 0], xlabel='X', ylabel='Y')  # setting the correct parameters from the slides\n",
    "    [sns.lineplot(data=df_f.loc[s], x = \"x\", y = \"y\", ax = ax) for s in segments]\n",
    "\n"
   ]
  },
  {
   "cell_type": "code",
   "execution_count": 6,
   "id": "11168d7a-e420-47d7-8241-9b817d57f8e3",
   "metadata": {},
   "outputs": [],
   "source": [
    "def extract_kp_from_file(f,person_id = -1):\n",
    "    \"\"\"\n",
    "    Extract keypoints from resource (file or url) as a numpy vector\n",
    "    \"\"\"\n",
    "\n",
    "    json_temp = json.load(open(f))['people']\n",
    "    \n",
    "    try:\n",
    "        # extract the keypoints of the person specified by person_id; default is last person identified\n",
    "        keypoints = np.array(extract_kp_from_json(json_temp)[\"pose_keypoints_2d\"][person_id]).astype('float')\n",
    "    except:\n",
    "        keypoints = np.empty((75,))\n",
    "        keypoints[:] = np.NaN\n",
    "    \n",
    "    # set missing points (imputed as 0) to nan so that they are not plotted\n",
    "    keypoints[keypoints==0] = np.nan\n",
    "    \n",
    "    return keypoints\n"
   ]
  },
  {
   "cell_type": "code",
   "execution_count": 8,
   "id": "354e8c45-e253-4cc1-8fbe-26d98fc1200e",
   "metadata": {},
   "outputs": [
    {
     "data": {
      "image/png": "[encoded data removed]",
      "text/plain": [
       "<Figure size 432x288 with 1 Axes>"
      ]
     },
     "metadata": {},
     "output_type": "display_data"
    }
   ],
   "source": [
    "# u = \"https://jlucasmckay.bmi.emory.edu/global/bmi500/keypoints.json\"\n",
    "u = \"keypoints.json\"\n",
    "f = \"keypoints.json\"\n",
    "\n",
    "kp_u = extract_kp_from_resource(u)\n",
    "kp_f = extract_kp_from_resource(f)\n",
    "\n",
    "df_u = convert_kp_to_df(kp_u)\n",
    "df_f = convert_kp_to_df(kp_f)\n",
    "\n",
    "plot_body25_df(df_f)"
   ]
  },
  {
   "cell_type": "code",
   "execution_count": 9,
   "id": "f81e66a1-bb0b-46bf-b814-da5528c6f0bb",
   "metadata": {},
   "outputs": [],
   "source": [
    "kp_f = extract_kp_from_resource(f)"
   ]
  },
  {
   "cell_type": "code",
   "execution_count": 11,
   "id": "847167ae-ad67-411a-bdc0-dd6facd30b5d",
   "metadata": {},
   "outputs": [
    {
     "data": {
      "text/plain": [
       "array([8.39275e+02, 2.74261e+02, 9.17512e-01, 8.06930e+02, 3.47775e+02,\n",
       "       8.78199e-01, 7.62852e+02, 3.47858e+02, 8.65138e-01, 7.27486e+02,\n",
       "       4.42062e+02, 8.22156e-01, 7.09782e+02, 5.30354e+02, 8.71983e-01,\n",
       "       8.42340e+02, 3.44855e+02, 8.44136e-01, 8.56942e+02, 4.30125e+02,\n",
       "       8.89750e-01, 9.21665e+02, 4.59668e+02, 8.59753e-01, 8.09972e+02,\n",
       "       5.12606e+02, 8.26453e-01, 7.89240e+02, 5.12631e+02, 7.85654e-01,\n",
       "       8.57011e+02, 6.30380e+02, 8.87856e-01, 8.80464e+02, 7.86228e+02,\n",
       "       8.88342e-01, 8.33368e+02, 5.12616e+02, 7.99905e-01, 7.89408e+02,\n",
       "       6.44940e+02, 8.90763e-01, 7.12771e+02, 7.36277e+02, 8.39424e-01,\n",
       "       8.30492e+02, 2.68402e+02, 9.55732e-01, 8.42256e+02, 2.68353e+02,\n",
       "       8.14716e-01, 7.95156e+02, 2.74314e+02, 8.57091e-01,         nan,\n",
       "               nan,         nan, 7.36237e+02, 7.83460e+02, 7.86820e-01,\n",
       "       7.30456e+02, 7.77512e+02, 7.09043e-01, 6.92144e+02, 7.39238e+02,\n",
       "       8.61732e-01, 9.27541e+02, 7.89415e+02, 7.90538e-01, 9.07117e+02,\n",
       "       8.03940e+02, 7.90985e-01, 8.71648e+02, 8.01012e+02, 7.54043e-01])"
      ]
     },
     "execution_count": 11,
     "metadata": {},
     "output_type": "execute_result"
    }
   ],
   "source": [
    "kp_f"
   ]
  },
  {
   "cell_type": "code",
   "execution_count": null,
   "id": "987ac57c-5f6d-4cc1-a97d-1c0a0f27b1bb",
   "metadata": {},
   "outputs": [],
   "source": []
  },
  {
   "cell_type": "code",
   "execution_count": 9,
   "id": "aebacc81-d735-4a91-a18f-0ab5de937021",
   "metadata": {},
   "outputs": [],
   "source": [
    "src_dir = Path(\"gait-json/json/\")"
   ]
  },
  {
   "cell_type": "code",
   "execution_count": 10,
   "id": "21e20012-0b9b-4413-bec5-1da851e0b13b",
   "metadata": {},
   "outputs": [
    {
     "data": {
      "text/plain": [
       "WindowsPath('C:/Users/sinad/OneDrive - Georgia Institute of Technology/BMI 500 Bio Informatics/wk13/BMI500_HW13_Motion_Analysis/gait-json/json')"
      ]
     },
     "execution_count": 10,
     "metadata": {},
     "output_type": "execute_result"
    }
   ],
   "source": [
    "src_dir.resolve()"
   ]
  },
  {
   "cell_type": "code",
   "execution_count": 30,
   "id": "1e4a4c70-e44d-45cb-a774-7851046b3896",
   "metadata": {},
   "outputs": [
    {
     "data": {
      "text/plain": [
       "True"
      ]
     },
     "execution_count": 30,
     "metadata": {},
     "output_type": "execute_result"
    }
   ],
   "source": [
    "src_dir.exists()"
   ]
  },
  {
   "cell_type": "code",
   "execution_count": 31,
   "id": "3f8f96c3-0016-40e5-a387-f2f5ec8220eb",
   "metadata": {},
   "outputs": [
    {
     "data": {
      "text/plain": [
       "'C:\\\\Users\\\\sinad\\\\OneDrive - Georgia Institute of Technology\\\\BMI 500 Bio Informatics\\\\wk13\\\\BMI500_HW13_Motion_Analysis'"
      ]
     },
     "execution_count": 31,
     "metadata": {},
     "output_type": "execute_result"
    }
   ],
   "source": [
    "pwd"
   ]
  },
  {
   "cell_type": "code",
   "execution_count": 11,
   "id": "950813f7-8049-40a3-bd45-04f1072525e4",
   "metadata": {},
   "outputs": [],
   "source": [
    "json_dir = src_dir\n",
    "files = list(json_dir.glob(\"*/*.json\"))"
   ]
  },
  {
   "cell_type": "code",
   "execution_count": 12,
   "id": "89c4148e-f2da-4fb4-98ea-995569a4b735",
   "metadata": {},
   "outputs": [],
   "source": [
    "trial = [f.parent.stem for f in files]"
   ]
  },
  {
   "cell_type": "code",
   "execution_count": 13,
   "id": "b9dc8154-72cf-4596-9c7a-3edcf142d45d",
   "metadata": {},
   "outputs": [],
   "source": [
    "frame = [int(f.name.split(\"_\")[1]) for f in files]"
   ]
  },
  {
   "cell_type": "code",
   "execution_count": 14,
   "id": "53f405fb-9f0a-4b38-b7ba-90477133a6da",
   "metadata": {},
   "outputs": [
    {
     "data": {
      "text/plain": [
       "'C:\\\\Users\\\\sinad\\\\OneDrive - Georgia Institute of Technology\\\\BMI 500 Bio Informatics\\\\wk13\\\\BMI500_HW13_Motion_Analysis\\\\gait-json\\\\json\\\\1, 10-25, Normal gait, Sag, Paige\\\\f_000000000013_keypoints.json'"
      ]
     },
     "execution_count": 14,
     "metadata": {},
     "output_type": "execute_result"
    }
   ],
   "source": [
    "f = files[13]\n",
    "str(f.resolve())"
   ]
  },
  {
   "cell_type": "markdown",
   "id": "1d6caf80-c79b-42c4-a4ea-e5e0bf8dedbb",
   "metadata": {},
   "source": [
    "pd.concat(outcomes_list...\n",
    "\n",
    "trial.str.contains(\"normal\")"
   ]
  },
  {
   "cell_type": "markdown",
   "id": "e2dd5536-c912-48e6-8c70-2565616174c5",
   "metadata": {},
   "source": [
    "# Homework"
   ]
  },
  {
   "cell_type": "code",
   "execution_count": null,
   "id": "62532fa2-3db6-4249-8747-5e9fc0deeacb",
   "metadata": {},
   "outputs": [],
   "source": [
    "# # Functions to calculate outcomes\n",
    "# \n",
    "# To complete the lab, you must fill in the following function prototypes:\n",
    "# \n",
    "# ```python\n",
    "# def calculate_angle(v1,v2):\n",
    "#     \"\"\"\n",
    "#     return the angle (in degrees) between two vectors v1 and v2.\n",
    "#     \"\"\"\n",
    "#     \n",
    "# ```"
   ]
  },
  {
   "cell_type": "code",
   "execution_count": null,
   "id": "8678d176-f37a-4613-a300-9ddeab9d80c0",
   "metadata": {},
   "outputs": [],
   "source": []
  },
  {
   "cell_type": "code",
   "execution_count": 17,
   "id": "c83aad19-a5c5-4c5b-b9c0-350b4f63ea79",
   "metadata": {},
   "outputs": [],
   "source": [
    "   \n",
    "# def df_to_outcomes(d):\n",
    "#     \"\"\"\n",
    "#     return a dataframe with kinematic outcomes derived from a single body25 dataframe.\n",
    "#     \"\"\"\n",
    "#         "
   ]
  },
  {
   "cell_type": "code",
   "execution_count": null,
   "id": "4a6c984c-fc81-4d74-87e5-3352c61ee93f",
   "metadata": {},
   "outputs": [],
   "source": []
  },
  {
   "cell_type": "code",
   "execution_count": 16,
   "id": "3ea64232-5cab-4b67-98bd-2300c55d83b0",
   "metadata": {},
   "outputs": [],
   "source": [
    "# def calc_outcomes(f):\n",
    "#     \"\"\"\n",
    "#     calculate outcomes from a file or other resource\n",
    "#     return as a dataframe in standard format\n",
    "#     \"\"\""
   ]
  },
  {
   "cell_type": "code",
   "execution_count": null,
   "id": "2b5fa954-cc83-484e-8893-f26aeb3973a3",
   "metadata": {},
   "outputs": [],
   "source": []
  },
  {
   "cell_type": "code",
   "execution_count": 18,
   "id": "865a698c-685d-40bb-b523-dd8cb4e9ad54",
   "metadata": {},
   "outputs": [],
   "source": [
    "# ADD FUNCTIONS HERE\n",
    "\n",
    "\n",
    "# # Loop over files\n",
    "# \n",
    "# Next, you must loop over files in the `json/` directory and concatenate all of the outcomes\n",
    "# into a pandas dataframe called `outcomes`."
   ]
  },
  {
   "cell_type": "code",
   "execution_count": null,
   "id": "b517c348-bf5b-4763-b19c-62d695ea659b",
   "metadata": {},
   "outputs": [],
   "source": []
  },
  {
   "cell_type": "markdown",
   "id": "37acac20-48d6-4956-b35d-039b74939375",
   "metadata": {},
   "source": [
    "\n",
    "### Write to file\n",
    " \n",
    "#### Write the data to a `csv` file\n"
   ]
  },
  {
   "cell_type": "code",
   "execution_count": 19,
   "id": "801438c6-cc97-4552-b983-e4cf5c833af1",
   "metadata": {},
   "outputs": [],
   "source": [
    "# write to file\n",
    "# outcomes.to_csv(\"outcomes.csv\",index=False)"
   ]
  },
  {
   "cell_type": "code",
   "execution_count": null,
   "id": "8d18fbe5-9ebb-4855-90e0-8b01bc06e0f2",
   "metadata": {},
   "outputs": [],
   "source": []
  },
  {
   "cell_type": "code",
   "execution_count": 20,
   "id": "311afcfe-4fbb-49c6-8731-b812abe41620",
   "metadata": {},
   "outputs": [],
   "source": [
    "# # Plot and save\n",
    "# \n",
    "# ## Normal gait (right knee angle, first 200 frames)"
   ]
  },
  {
   "cell_type": "code",
   "execution_count": null,
   "id": "393e707f-b2cf-4adc-8a84-498de1e5754d",
   "metadata": {},
   "outputs": [],
   "source": []
  }
 ],
 "metadata": {
  "kernelspec": {
   "display_name": "Python 3",
   "language": "python",
   "name": "python3"
  },
  "language_info": {
   "codemirror_mode": {
    "name": "ipython",
    "version": 3
   },
   "file_extension": ".py",
   "mimetype": "text/x-python",
   "name": "python",
   "nbconvert_exporter": "python",
   "pygments_lexer": "ipython3",
   "version": "3.8.8"
  }
 },
 "nbformat": 4,
 "nbformat_minor": 5
}
